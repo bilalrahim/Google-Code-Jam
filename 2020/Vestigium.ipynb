{
 "cells": [
  {
   "cell_type": "code",
   "execution_count": null,
   "metadata": {},
   "outputs": [],
   "source": [
    "\"\"\"\"\n",
    "Google Code Jam 2020.\n",
    "Vestigium\n",
    "Read readme first, to uderstand the problem.\n",
    "\n",
    "\"\"\"\""
   ]
  },
  {
   "cell_type": "code",
   "execution_count": null,
   "metadata": {},
   "outputs": [],
   "source": [
    "def solve():\n",
    "    N=int(input())\n",
    "    rows, cols = (N, N) \n",
    "    mat=  []\n",
    "    for i in range(N):\n",
    "            matrix = input().split(\" \")\n",
    "           \n",
    "            mat.append(matrix)\n",
    "    \n",
    "    \n",
    "    \n",
    "    #For trace.\n",
    "   \n",
    "    row = 0\n",
    "    col = 0\n",
    "    trace = 0\n",
    "    for i in range(N):            \n",
    "        trace=trace + int(mat[row][col])\n",
    "        row=row+1\n",
    "        col=col+1\n",
    "    #for same cols\n",
    "    s_col = 0\n",
    "    s_row = 0\n",
    "    for col in range(N):\n",
    "        flag = 0\n",
    "        #for within a column.\n",
    "        for i in range(N):\n",
    "            if flag==1:\n",
    "                break\n",
    "            else: \n",
    "                temp=mat[i][col]\n",
    "            \n",
    "                for j in range(i+1,N):\n",
    "                    if mat[j][col]==temp:\n",
    "                        s_col+=1\n",
    "                        flag=1\n",
    "                        break\n",
    "    #for same rows\n",
    "    for row in range(N):\n",
    "        flag = 0\n",
    "        #for within a column.\n",
    "        for i in range(N):\n",
    "            if flag==1:\n",
    "                break\n",
    "            else: \n",
    "                temp=mat[row][i]\n",
    "            \n",
    "                for j in range(i+1,N):\n",
    "                    if mat[row][j]==temp:\n",
    "                        s_row+=1\n",
    "                        flag=1\n",
    "                        break\n",
    "    arr=[trace,s_row,s_col]\n",
    "    return arr"
   ]
  },
  {
   "cell_type": "code",
   "execution_count": null,
   "metadata": {},
   "outputs": [],
   "source": [
    "T=int(input())\n",
    "for X in range(T):\n",
    "    arr=solve()\n",
    "    print(\"Case #{} {} {} {}\".format(X+1,arr[0],arr[1],arr[2]))\n",
    "    "
   ]
  },
  {
   "cell_type": "markdown",
   "metadata": {},
   "source": [
    "N=3\n",
    "entries = list(map(int, input().split()))  \n",
    "matrix = np.array(entries).reshape(N, N) \n",
    "print(matrix) "
   ]
  },
  {
   "cell_type": "markdown",
   "metadata": {},
   "source": [
    "mat[0][0]=2\n",
    "mat"
   ]
  }
 ],
 "metadata": {
  "kernelspec": {
   "display_name": "Python 3",
   "language": "python",
   "name": "python3"
  },
  "language_info": {
   "codemirror_mode": {
    "name": "ipython",
    "version": 3
   },
   "file_extension": ".py",
   "mimetype": "text/x-python",
   "name": "python",
   "nbconvert_exporter": "python",
   "pygments_lexer": "ipython3",
   "version": "3.7.3"
  }
 },
 "nbformat": 4,
 "nbformat_minor": 2
}
