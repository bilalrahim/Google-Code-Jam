{
 "cells": [
  {
   "cell_type": "code",
   "execution_count": 31,
   "metadata": {},
   "outputs": [],
   "source": [
    "\"\"\"\n",
    "Google Code Jam 2019\n",
    "Foregone Solution\n",
    "Read readme first, to uderstand the problem.\n",
    "\n",
    "\"\"\""
   ]
  },
  {
   "cell_type": "code",
   "execution_count": null,
   "metadata": {},
   "outputs": [],
   "source": [
    "def func(T):\n",
    "    str_T=str(T)\n",
    "\n",
    "    flag_array=[]\n",
    "    X=''\n",
    "    for d in str_T:\n",
    "        if d == '4':       \n",
    "            flag_array.append('1')\n",
    "        else:\n",
    "            flag_array.append('0')\n",
    "    B=''.join(flag_array)\n",
    "    A=T-int(B)\n",
    "    ret_arr=[A,int(B)]\n",
    "    return ret_ar"
   ]
  },
  {
   "cell_type": "code",
   "execution_count": 37,
   "metadata": {},
   "outputs": [
    {
     "name": "stdout",
     "output_type": "stream",
     "text": [
      "case#1: 300 100\n",
      "case#2: 300 100\n"
     ]
    }
   ],
   "source": [
    "N=2\n",
    "T=400\n",
    "T=500\n",
    "arr=func(T)\n",
    "for i in range(1,N+1):\n",
    "        X=arr[0]\n",
    "        Y=arr[1]\n",
    "        print(\"case#\"+str(i)+\": \"+str(X)+\" \"+str(Y))"
   ]
  },
  {
   "cell_type": "code",
   "execution_count": null,
   "metadata": {},
   "outputs": [],
   "source": []
  }
 ],
 "metadata": {
  "kernelspec": {
   "display_name": "Python 3",
   "language": "python",
   "name": "python3"
  },
  "language_info": {
   "codemirror_mode": {
    "name": "ipython",
    "version": 3
   },
   "file_extension": ".py",
   "mimetype": "text/x-python",
   "name": "python",
   "nbconvert_exporter": "python",
   "pygments_lexer": "ipython3",
   "version": "3.7.3"
  }
 },
 "nbformat": 4,
 "nbformat_minor": 2
}
